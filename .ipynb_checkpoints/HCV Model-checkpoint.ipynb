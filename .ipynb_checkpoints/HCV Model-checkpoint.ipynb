{
 "cells": [
  {
   "cell_type": "code",
   "execution_count": 2,
   "metadata": {
    "collapsed": true
   },
   "outputs": [],
   "source": [
    "import numpy as np\n",
    "import pandas as pd\n",
    "from scipy.integrate import odeint\n",
    "# import matplotlib.pyplot as plt\n",
    "# import matplotlib\n",
    "# matplotlib.style.use('ggplot')\n",
    "# %matplotlib inline"
   ]
  },
  {
   "cell_type": "code",
   "execution_count": 1,
   "metadata": {
    "collapsed": false
   },
   "outputs": [
    {
     "name": "stdout",
     "output_type": "stream",
     "text": [
      "3.6.1 |Anaconda 4.4.0 (64-bit)| (default, May 11 2017, 13:25:24) [MSC v.1900 64 bit (AMD64)]\n"
     ]
    }
   ],
   "source": [
    "                      import sys\n",
    "print (sys.version)"
   ]
  },
  {
   "cell_type": "code",
   "execution_count": 94,
   "metadata": {
    "collapsed": true
   },
   "outputs": [],
   "source": [
    "age_groups= range(16)\n",
    "disease_stages= range(5)\n",
    "age_at_infection_groups= range(3)\n",
    "genders = range(2) # 0- Female, 1- Male"
   ]
  },
  {
   "cell_type": "code",
   "execution_count": 95,
   "metadata": {
    "collapsed": true
   },
   "outputs": [],
   "source": [
    "female_mortality_df = pd.read_csv('C:/Users/User/Dropbox/'\n",
    "                'Hepatitis C - Noa& Dan/Mathematica/data for model/'\n",
    "                'female mortality rate.csv')\n",
    "male_mortality_df = pd.read_csv('C:/Users/User/Dropbox/'\n",
    "                'Hepatitis C - Noa& Dan/Mathematica/data for model/'\n",
    "                'male mortality rate.csv')\n",
    "female_pop_df = pd.read_csv('C:/Users/User/Dropbox/'\n",
    "                'Hepatitis C - Noa& Dan/Mathematica/data for model/'\n",
    "                'Female population by age.csv')\n",
    "male_pop_df = pd.read_csv('C:/Users/User/Dropbox/'\n",
    "                'Hepatitis C - Noa& Dan/Mathematica/data for model/'\n",
    "                'male population by age.csv')"
   ]
  },
  {
   "cell_type": "code",
   "execution_count": 96,
   "metadata": {
    "collapsed": true
   },
   "outputs": [],
   "source": [
    "Mu = np.append([female_mortality_df.values],[male_mortality_df.values], axis=0)\n",
    "population =np.append([female_pop_df.values],[male_pop_df.values], axis=0)  \n",
    "# 0-gender, 1-t, 2-age"
   ]
  },
  {
   "cell_type": "code",
   "execution_count": 97,
   "metadata": {
    "collapsed": true
   },
   "outputs": [],
   "source": [
    "birth_rate_df = pd.read_csv('C:/Users/User/Dropbox/'\n",
    "                'Hepatitis C - Noa& Dan/Mathematica/data for model/'\n",
    "                'birth_rate.csv')\n",
    "birth_rate = np.array(birth_rate_df[\"rate\"])"
   ]
  },
  {
   "cell_type": "code",
   "execution_count": 98,
   "metadata": {
    "collapsed": true
   },
   "outputs": [],
   "source": [
    "blood_df = pd.read_csv('C:/Users/User/Dropbox/'\n",
    "                'Hepatitis C - Noa& Dan/Mathematica/data for model/'\n",
    "                'b.csv')\n",
    "blood_trans = np.array([blood_df[\"Female\"],blood_df[\"Male\"]])\n",
    "# 0-gender, 1-age"
   ]
  },
  {
   "cell_type": "code",
   "execution_count": 99,
   "metadata": {
    "collapsed": true
   },
   "outputs": [],
   "source": [
    "progress_df = pd.read_csv('C:/Users/User/Dropbox/'\n",
    "                'Hepatitis C - Noa& Dan/Mathematica/data for model/'\n",
    "                'p.csv')\n",
    "progress = np.array([progress_df[\"0\"], progress_df[\"1\"], progress_df[\"2\"]])\n",
    "# 0-age infection, 1-stage"
   ]
  },
  {
   "cell_type": "code",
   "execution_count": 105,
   "metadata": {
    "collapsed": true
   },
   "outputs": [],
   "source": [
    "C0=np.full((len(age_groups), len(disease_stages),\n",
    "            len(age_at_infection_groups), len(genders)),0)\n",
    "for g in genders:\n",
    "    for i in range(0, 4):\n",
    "        C0[i, 0, 0, g] = 0.025\n",
    "    for i in range(4, 6):\n",
    "        for k in range(0, 2):\n",
    "            C0[i, 0, k, g] = 0.0125\n",
    "    for i in range(6, len(age_groups)):\n",
    "        for k in age_at_infection_groups:\n",
    "            C0[i, 0, k, g] = 0.008333333\n",
    "\n",
    "C0=np.array(C0).reshape(480)"
   ]
  },
  {
   "cell_type": "code",
   "execution_count": 108,
   "metadata": {
    "collapsed": true
   },
   "outputs": [],
   "source": [
    "# The model differential equations.\n",
    "def deriv(y,t,alpha,beta,lamda,mu,pop):\n",
    "    \n",
    "    C = np.array(y).reshape(len(age_groups),len(disease_stages),len(age_at_infection_groups),len(genders))\n",
    "    dCdt=np.full((len(age_groups),len(disease_stages),len(age_at_infection_groups),len(genders)),0)\n",
    "    \n",
    "    infected_donors=0\n",
    "    maternity=0\n",
    "    \n",
    "    for j in disease_stages:\n",
    "        for k in age_at_infection_groups:\n",
    "            for g in genders:\n",
    "                for i1 in range(4,12):\n",
    "                    #(*donors- ages 20-60*)\n",
    "                    infected_donors += C[i1, j, k, g]/pop(t,i1,g)\n",
    "            for i2 in range(3,10):\n",
    "                maternity += C[i2, j, k, 0]/pop(t,i2,0)\n",
    "                \n",
    "    for g in genders:\n",
    "        #d1 (*The first age group with F0*)\n",
    "        dCdt[0,0,0,g]= -C[0,0,0,g]*(progress[0,0] +mu(t,0,g) + alpha) + lamda(t)*0.05*maternity +\\\n",
    "            blood_trans[g, 0]*infected_donors*beta* pop(t,0, g) \n",
    "        \n",
    "        #d3 (*The first age group with F4*)\n",
    "        dCdt[0, len(disease_stages)-1, 0, g]= -C[0,len(disease_stages)-1, 0, g]*(alpha +Mu(t,0,g)) +\\\n",
    "            C[0, len(disease_stages) - 2, 0, g]*progress[0, len(disease_stages)-2]\n",
    "    \n",
    "        for k in age_at_infection_groups:\n",
    "            #d2 (*The last age group with F4*)\n",
    "            dCdt[len(age_groups)-1,len(disease_stages)-1,k,g]=C[len(age_groups) - 2, len(disease_stages)-2, k, g]*Alpha-\\\n",
    "                mu(t,len(age_groups)-1,g)*C[len(age_groups)-1, len(disease_stages)-1, k, g] +\\\n",
    "                C[len(age_groups)-1, len(disease_stages) - 2, k, g]*progress[k, len(disease_stages)-2]\n",
    "            \n",
    "            #d4 (*The last age group with F0*)\n",
    "            dCdt[len(age_groups)-1,0,k,g]=C[len(age_groups) - 2, 0, k, g]*alpha -\\\n",
    "                                         mu(t,len(age_groups)-1, g)*C[len(age_groups)-1, 0, k, g]- \\\n",
    "                                         C[len(age_groups)-1, 0, k, g]*progress[k, 0]\n",
    "                \n",
    "        for j in range(1,len(disease_stages) - 2):\n",
    "            #d9 (*The first age group*)\n",
    "            dCdt[0, j, 0, g]=  -C[0, j, 0, g]*(mu(t,0,g)+progress[0,j]+alpha) +\\\n",
    "                C[0, j - 1, 0, g]*progress[0, j-1]\n",
    "            for k in age_at_infection_groups:\n",
    "            #d10 (*The last age group*)\n",
    "                dCdt[len(age_groups)-1, j, k, g]= C[len(age_groups)-2, j, k, g]*alpha -\\\n",
    "                    C[len(age_groups)-1, j, k, g]*(mu(t,len(age_groups)-1, g)+ progress[k,j]) +\\\n",
    "                    C[len(age_groups)-1, j - 1, k, g]*progress[k, j-1] \n",
    "                \n",
    "        for i in range(1,4):\n",
    "            #d5 (*F0 population*)\n",
    "            dCdt[i, 0, 0, g]= -C[i, 0, 0, g]*(progress[0, 0] + mu(t,i,g) + alpha) + \\\n",
    "                C[i - 1, 0, 0, g]* alpha + blood_trans[g, i]*infected_donors*beta*pop(t,i,g)\n",
    "            \n",
    "            #d8a (*last stage population*)\n",
    "            dCdt[i, len(disease_stages)-1, 0, g]= C[i - 1, len(disease_stages)-1, 0, g]*alpha -\\\n",
    "                C[i, len(disease_stages)-1, 0, g]*(alpha + mu(t,i,g)) +\\\n",
    "                C[i, len(disease_stages)-2, 0, g]*progress[0, len(disease_stages)-2]\n",
    "            \n",
    "            #d11a\n",
    "            for j in range(1,len(disease_stages) - 2):\n",
    "                dCdt[i, j, 0, g]=C[i - 1, j, 0, g]*alpha-C[i, j, 0, g]*(mu(t,i,g) +alpha)+\\\n",
    "                    C[i, j - 1, 0, g]*progress[0, j-1] -C[i, j, 0, g]*progress[0, j]\n",
    "            \n",
    "        for i in range(4,6):\n",
    "            for k in range(0,2):\n",
    "                #d6 (*F0 population*)\n",
    "                dCdt[i, 0, k, g]= -C[i, 0, k, g]*(progress[k, 0] + mu(t,i,g) + alpha) + \\\n",
    "                    C[i - 1, 0, k, g]* alpha + blood_trans[g, i]*infected_donors*beta*pop(t,i,g)\n",
    "            \n",
    "                #d8b (*last stage population*)\n",
    "                dCdt[i, len(disease_stages)-1, k, g]= C[i - 1, len(disease_stages)-1, k, g]*alpha -\\\n",
    "                    C[i, len(disease_stages)-1, k, g]*(alpha + mu(t,i,g)) +\\\n",
    "                    C[i, len(disease_stages)-2, k, g]*progress[k, len(disease_stages)-2]\n",
    "            \n",
    "                #d11b\n",
    "                for j in range(1,len(disease_stages) - 2):\n",
    "                    dCdt[i, j, k, g]=C[i - 1, j, k, g]*alpha-C[i, j, k, g]*(mu(t,i,g) +alpha)+\\\n",
    "                        C[i, j - 1, k, g]*progress[k, j-1] -C[i, j, k, g]*progress[k, j]\n",
    "            \n",
    "        for i in range(6,len(age_groups)):\n",
    "            for k in age_at_infection_groups:\n",
    "                #d7 (*F0 population*)\n",
    "                dCdt[i, 0, k, g]= -C[i, 0, k, g]*(progress[k, 0] + mu(t,i,g) + alpha) + \\\n",
    "                    C[i - 1, 0, k, g]* alpha + blood_trans[g, i]*infected_donors*beta*pop(t,i,g)\n",
    "            \n",
    "                #d8c (*last stage population*)\n",
    "                dCdt[i, len(disease_stages)-1, k, g]= C[i - 1, len(disease_stages)-1, k, g]*alpha -\\\n",
    "                    C[i, len(disease_stages)-1, k, g]*(alpha + mu(t,i,g)) +\\\n",
    "                    C[i, len(disease_stages)-2, k, g]*progress[k, len(disease_stages)-2]\n",
    "            \n",
    "                #d11c\n",
    "                for j in range(1,len(disease_stages) - 2):\n",
    "                    dCdt[i, j, k, g]=C[i - 1, j, k, g]*alpha-C[i, j, k, g]*(mu(t,i,g) +alpha)+\\\n",
    "                        C[i, j - 1, k, g]*progress[k, j-1] -C[i, j, k, g]*progress[k, j]            \n",
    "            \n",
    "    dCdt=np.array(dCdt).reshape(480)\n",
    "    return dCdt\n"
   ]
  },
  {
   "cell_type": "code",
   "execution_count": 112,
   "metadata": {
    "collapsed": true
   },
   "outputs": [],
   "source": [
    "def pop(t, i, g):\n",
    "    # 0-gender, 1-t, 2-age\n",
    "    return population[g, t, i]\n",
    "\n",
    "\n",
    "def mu(t, i, g):\n",
    "    # 0-gender, 1-t, 2-age\n",
    "    return Mu[g, t, i]\n",
    "\n",
    "\n",
    "def lamda(t):\n",
    "    return birth_rate[t]\n",
    "\n",
    "\n",
    "alpha=0.2\n",
    "beta=0.15\n",
    "args=(alpha,beta,lamda,mu,pop)\n",
    "\n",
    "t = np.linspace(0.0, 63, 1)\n",
    "\n",
    "y = odeint(deriv, C0, t, args)\n",
    "c = y.T\n",
    "c = np.array(c).reshape(len(age_groups), len(disease_stages),\n",
    "                        len(age_at_infection_groups), len(genders))\n"
   ]
  },
  {
   "cell_type": "code",
   "execution_count": null,
   "metadata": {
    "collapsed": true
   },
   "outputs": [],
   "source": []
  },
  {
   "cell_type": "code",
   "execution_count": 102,
   "metadata": {
    "collapsed": false
   },
   "outputs": [
    {
     "name": "stderr",
     "output_type": "stream",
     "text": [
      "C:\\Users\\User\\Anaconda2\\lib\\site-packages\\numpy\\core\\numeric.py:301: FutureWarning: in the future, full((16, 5, 3, 2), 0) will return an array of dtype('int32')\n",
      "  format(shape, fill_value, array(fill_value).dtype), FutureWarning)\n"
     ]
    }
   ],
   "source": [
    "df = pd.DataFrame(np.array(c).T, columns=['S', 'I', 'R'])"
   ]
  },
  {
   "cell_type": "code",
   "execution_count": null,
   "metadata": {
    "collapsed": true
   },
   "outputs": [],
   "source": [
    "def eq_system(y,t,w,sigma,ru,gamma,phai,beta,phi,etha,vac_eff):\n",
    "    M = y[0] \n",
    "    S = y[1:4]\n",
    "    I = np.array(y[4:13]).reshape(len(stages),len(severity) )\n",
    "    R = y[13:16]\n",
    "    V = y[16:19]\n",
    "    I_d = np.array(y[19:28]).reshape(len(doses),len(severity) )\n",
    "    \n",
    "    lamb = calc_force_of_infection(beta,phi,phai,t,I,I_d)\n",
    "    \n",
    "    dydt = []\n",
    "    dydt.append( birth_rate - M*( w[0]*(1-etha[0]) + mu + etha[0]*a[0] ) )        #dM/dt\n",
    "    \n",
    "    I_temp = []\n",
    "    S_temp = []\n",
    "    R_temp = []\n",
    "    V_temp = []\n",
    "    I_d_temp = []\n",
    "                    \n",
    "    m = max(stages) #=2\n",
    "\n",
    "    for k in stages:\n",
    "        S_temp.append( delta(k)*(w[0]*M*(1-etha[0]) - etha[0]*S[0]*a[0])           #dS/dt\n",
    "                          + (w[k]*R[k-1] if k > 0 else 0)\n",
    "                          - (mu+sigma[k]*lamb*(1-etha[0]*delta(k)))*S[k] \n",
    "                          + delta(m-k)*w[m+1]*R[m] )\n",
    "\n",
    "        for l in severity:\n",
    "            I_temp.append(ru[k,l]*sigma[k]*lamb*S[k]*(1-etha[0]*delta(k))-gamma[k,l]*I[k,l] - I[k,l]*mu)   #dI/dt\n",
    "        \n",
    "        R_temp.append(  - R[k]*(w[k+1] + mu) \n",
    "                        + ( np.sum([gamma[k,sev]*I[k,sev] for sev in severity]) ) \n",
    "                        + delta(k)*( sum([gamma[0,sev]*I_d[d,sev] for d in doses for sev in severity]) )\n",
    "                     )                                                                #dR/dt\n",
    "    \n",
    "    for d in doses:\n",
    "        V_temp.append( delta(d)*(M+S[0])*etha[0]*a[0]\n",
    "                      + (V[d-1]*etha[d]*a[d] if d > 0 else 0)   #in : V[d]->V[d+1]\n",
    "                      - (V[d]*etha[d+1]*a[d+1] if d < 2 else 0) #out: V[d]->V[d+1] \n",
    "                      - (sum( [(1-vac_eff[d,l])*sigma[0]*lamb for l in severity]) )*V[d] \n",
    "                            *((1-etha[d+1]) if d < 2 else 1) \n",
    "                      -mu*V[d] )\n",
    "            \n",
    "        for l in severity:\n",
    "            I_d_temp.append( (1-vac_eff[d,l])*sigma[0]*lamb*V[d]*((1-etha[d+1]) if d < 2 else 1) \n",
    "                              - (mu + gamma[0,l])*I_d[d,l] \n",
    "                           )\n",
    "                    \n",
    "    dydt.extend(S_temp)\n",
    "    dydt.extend(I_temp)\n",
    "    dydt.extend(R_temp)\n",
    "    dydt.extend(V_temp)\n",
    "    dydt.extend(I_d_temp)\n",
    "    return dydt"
   ]
  }
 ],
 "metadata": {
  "anaconda-cloud": {},
  "kernelspec": {
   "display_name": "Python [conda env:py36]",
   "language": "python",
   "name": "conda-env-py36-py"
  },
  "language_info": {
   "codemirror_mode": {
    "name": "ipython",
    "version": 3
   },
   "file_extension": ".py",
   "mimetype": "text/x-python",
   "name": "python",
   "nbconvert_exporter": "python",
   "pygments_lexer": "ipython3",
   "version": "3.6.1"
  }
 },
 "nbformat": 4,
 "nbformat_minor": 0
}
