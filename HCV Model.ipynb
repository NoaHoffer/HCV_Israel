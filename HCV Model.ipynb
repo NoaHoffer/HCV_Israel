{
 "cells": [
  {
   "cell_type": "code",
   "execution_count": 3,
   "metadata": {
    "collapsed": true
   },
   "outputs": [],
   "source": [
    "import numpy as np\n",
    "import pandas as pd\n",
    "from scipy.integrate import odeint\n",
    "import matplotlib.pyplot as plt\n",
    "import matplotlib\n",
    "matplotlib.style.use('ggplot')\n",
    "%matplotlib inline"
   ]
  },
  {
   "cell_type": "code",
   "execution_count": 4,
   "metadata": {
    "collapsed": false
   },
   "outputs": [
    {
     "name": "stdout",
     "output_type": "stream",
     "text": [
      "3.6.1 |Anaconda 4.4.0 (64-bit)| (default, May 11 2017, 13:25:24) [MSC v.1900 64 bit (AMD64)]\n"
     ]
    }
   ],
   "source": [
    "import sys\n",
    "print (sys.version)"
   ]
  },
  {
   "cell_type": "code",
   "execution_count": 5,
   "metadata": {
    "collapsed": true
   },
   "outputs": [],
   "source": [
    "age_groups= range(16)\n",
    "disease_stages= range(5)\n",
    "age_at_infection_groups= range(3)\n",
    "genders = range(2) # 0- Female, 1- Male"
   ]
  },
  {
   "cell_type": "code",
   "execution_count": 6,
   "metadata": {
    "collapsed": true
   },
   "outputs": [],
   "source": [
    "female_mortality_df = pd.read_csv('C:/Users/User/Dropbox/'\n",
    "                'Hepatitis C - Noa& Dan/Mathematica/data for model/'\n",
    "                'female mortality rate.csv')\n",
    "male_mortality_df = pd.read_csv('C:/Users/User/Dropbox/'\n",
    "                'Hepatitis C - Noa& Dan/Mathematica/data for model/'\n",
    "                'male mortality rate.csv')\n",
    "female_pop_df = pd.read_csv('C:/Users/User/Dropbox/'\n",
    "                'Hepatitis C - Noa& Dan/Mathematica/data for model/'\n",
    "                'Female population by age.csv')\n",
    "male_pop_df = pd.read_csv('C:/Users/User/Dropbox/'\n",
    "                'Hepatitis C - Noa& Dan/Mathematica/data for model/'\n",
    "                'male population by age.csv')"
   ]
  },
  {
   "cell_type": "code",
   "execution_count": 7,
   "metadata": {
    "collapsed": true
   },
   "outputs": [],
   "source": [
    "Mu = np.append([female_mortality_df.values],[male_mortality_df.values], axis=0)\n",
    "population =np.append([female_pop_df.values],[male_pop_df.values], axis=0)  \n",
    "# 0-gender, 1-t, 2-age"
   ]
  },
  {
   "cell_type": "code",
   "execution_count": 8,
   "metadata": {
    "collapsed": true
   },
   "outputs": [],
   "source": [
    "birth_rate_df = pd.read_csv('C:/Users/User/Dropbox/'\n",
    "                'Hepatitis C - Noa& Dan/Mathematica/data for model/'\n",
    "                'birth_rate.csv')\n",
    "birth_rate = np.array(birth_rate_df[\"births\"])"
   ]
  },
  {
   "cell_type": "code",
   "execution_count": 9,
   "metadata": {
    "collapsed": true
   },
   "outputs": [],
   "source": [
    "blood_df = pd.read_csv('C:/Users/User/Dropbox/'\n",
    "                'Hepatitis C - Noa& Dan/Mathematica/data for model/'\n",
    "                'b.csv')\n",
    "blood_trans = np.array([blood_df[\"Female\"],blood_df[\"Male\"]])\n",
    "# 0-gender, 1-age"
   ]
  },
  {
   "cell_type": "code",
   "execution_count": 10,
   "metadata": {
    "collapsed": true
   },
   "outputs": [],
   "source": [
    "progress_df = pd.read_csv('C:/Users/User/Dropbox/'\n",
    "                'Hepatitis C - Noa& Dan/Mathematica/data for model/'\n",
    "                'p.csv')\n",
    "progress = np.array([progress_df[\"0\"], progress_df[\"1\"], progress_df[\"2\"]])\n",
    "# 0-age infection, 1-stage"
   ]
  },
  {
   "cell_type": "code",
   "execution_count": 11,
   "metadata": {
    "collapsed": true
   },
   "outputs": [],
   "source": [
    "C0=np.full((len(age_groups), len(disease_stages),\n",
    "            len(age_at_infection_groups), len(genders)),0)\n",
    "for g in genders:\n",
    "    for i in range(0, 4):\n",
    "        C0[i, 0, 0, g] = 0.025\n",
    "    for i in range(4, 6):\n",
    "        for k in range(0, 2):\n",
    "            C0[i, 0, k, g] = 0.0125\n",
    "    for i in range(6, len(age_groups)):\n",
    "        for k in age_at_infection_groups:\n",
    "            C0[i, 0, k, g] = 0.008333333\n",
    "\n",
    "C0=np.array(C0).reshape(480)"
   ]
  },
  {
   "cell_type": "code",
   "execution_count": 12,
   "metadata": {},
   "outputs": [],
   "source": [
    "C0=np.full((len(age_groups), len(disease_stages),\n",
    "            len(age_at_infection_groups), len(genders)),0)\n",
    "for g in genders:\n",
    "    for i in range(0, 4):\n",
    "        C0[i, 0, 0, g] = 15.1875\n",
    "    for i in range(4, 6):\n",
    "        for k in range(0, 2):\n",
    "            C0[i, 0, k, g] = 7.59375\n",
    "    for i in range(6, len(age_groups)):\n",
    "        for k in age_at_infection_groups:\n",
    "            C0[i, 0, k, g] = 5.0625\n",
    "\n",
    "C0=np.array(C0).reshape(480)"
   ]
  },
  {
   "cell_type": "code",
   "execution_count": 13,
   "metadata": {
    "collapsed": true
   },
   "outputs": [],
   "source": [
    "# The model differential equations.\n",
    "def deriv(y,t0,alpha,beta,lamda,mu,pop,tt):\n",
    "\n",
    "    C = np.array(y).reshape(len(age_groups),len(disease_stages),len(age_at_infection_groups),len(genders))\n",
    "    dCdt=np.full((len(age_groups),len(disease_stages),len(age_at_infection_groups),len(genders)),0)\n",
    "    \n",
    "    \n",
    "    \n",
    "    infected_donors=0\n",
    "    maternity=0\n",
    "    sumpop1=0\n",
    "    sumpop2=0\n",
    "    \n",
    "    for j in disease_stages:\n",
    "        for k in age_at_infection_groups:\n",
    "            for g in genders:\n",
    "                for i1 in range(4,12):\n",
    "                    #(*donors- ages 20-60*)\n",
    "                    infected_donors += C[i1, j, k, g]\n",
    "                    sumpop1+= pop(tt,i1,g)\n",
    "            for i2 in range(3,10):\n",
    "                maternity += C[i2, j, k, 0]\n",
    "                sumpop2+=pop(tt,i2,0)\n",
    "    \n",
    "    infected_donors=infected_donors/sumpop1\n",
    "    maternity=maternity/sumpop2\n",
    "                \n",
    "    for g in genders:\n",
    "        #d1 (*The first age group with F0*)\n",
    "        dCdt[0,0,0,g]= -C[0,0,0,g]*(progress[0,0] +mu(tt,0,g) + alpha) + lamda(tt)*0.05*maternity +\\\n",
    "            blood_trans[g, 0]*infected_donors*beta* pop(tt,0, g) \n",
    "        \n",
    "        #d3 (*The first age group with F4*)\n",
    "        dCdt[0, len(disease_stages)-1, 0, g]= -C[0,len(disease_stages)-1, 0, g]*(alpha + mu(tt,0,g)) +\\\n",
    "            C[0, len(disease_stages) - 2, 0, g]*progress[0, len(disease_stages)-2]\n",
    "    \n",
    "        for k in age_at_infection_groups:\n",
    "            #d2 (*The last age group with F4*)\n",
    "            dCdt[len(age_groups)-1,len(disease_stages)-1,k,g]=C[len(age_groups) - 2, len(disease_stages)-2, k, g]*alpha-\\\n",
    "                mu(tt,len(age_groups)-1,g)*C[len(age_groups)-1, len(disease_stages)-1, k, g] +\\\n",
    "                C[len(age_groups)-1, len(disease_stages) - 2, k, g]*progress[k, len(disease_stages)-2]\n",
    "            \n",
    "            #d4 (*The last age group with F0*)\n",
    "            dCdt[len(age_groups)-1,0,k,g]=C[len(age_groups) - 2, 0, k, g]*alpha -\\\n",
    "                                         mu(tt,len(age_groups)-1, g)*C[len(age_groups)-1, 0, k, g]- \\\n",
    "                                         C[len(age_groups)-1, 0, k, g]*progress[k, 0]\n",
    "                \n",
    "        for j in range(1,len(disease_stages) - 2):\n",
    "            #d9 (*The first age group*)\n",
    "            dCdt[0, j, 0, g]=  -C[0, j, 0, g]*(mu(tt,0,g)+progress[0,j]+alpha) +\\\n",
    "                C[0, j - 1, 0, g]*progress[0, j-1]\n",
    "            for k in age_at_infection_groups:\n",
    "            #d10 (*The last age group*)\n",
    "                dCdt[len(age_groups)-1, j, k, g]= C[len(age_groups)-2, j, k, g]*alpha -\\\n",
    "                    C[len(age_groups)-1, j, k, g]*(mu(tt,len(age_groups)-1, g)+ progress[k,j]) +\\\n",
    "                    C[len(age_groups)-1, j - 1, k, g]*progress[k, j-1] \n",
    "                \n",
    "        for i in range(1,4):\n",
    "            #d5 (*F0 population*)\n",
    "            dCdt[i, 0, 0, g]= -C[i, 0, 0, g]*(progress[0, 0] + mu(tt,i,g) + alpha) + \\\n",
    "                C[i - 1, 0, 0, g]* alpha + blood_trans[g, i]*infected_donors*beta*pop(tt,i,g)\n",
    "            \n",
    "            #d8a (*last stage population*)\n",
    "            dCdt[i, len(disease_stages)-1, 0, g]= C[i - 1, len(disease_stages)-1, 0, g]*alpha -\\\n",
    "                C[i, len(disease_stages)-1, 0, g]*(alpha + mu(tt,i,g)) +\\\n",
    "                C[i, len(disease_stages)-2, 0, g]*progress[0, len(disease_stages)-2]\n",
    "            \n",
    "            #d11a\n",
    "            for j in range(1,len(disease_stages) - 2):\n",
    "                dCdt[i, j, 0, g]=C[i - 1, j, 0, g]*alpha-C[i, j, 0, g]*(mu(tt,i,g) +alpha)+\\\n",
    "                    C[i, j - 1, 0, g]*progress[0, j-1] -C[i, j, 0, g]*progress[0, j]\n",
    "            \n",
    "        for i in range(4,6):\n",
    "            for k in range(0,2):\n",
    "                #d6 (*F0 population*)\n",
    "                dCdt[i, 0, k, g]= -C[i, 0, k, g]*(progress[k, 0] + mu(tt,i,g) + alpha) + \\\n",
    "                    C[i - 1, 0, k, g]* alpha + blood_trans[g, i]*infected_donors*beta*pop(tt,i,g)\n",
    "            \n",
    "                #d8b (*last stage population*)\n",
    "                dCdt[i, len(disease_stages)-1, k, g]= C[i - 1, len(disease_stages)-1, k, g]*alpha -\\\n",
    "                    C[i, len(disease_stages)-1, k, g]*(alpha + mu(tt,i,g)) +\\\n",
    "                    C[i, len(disease_stages)-2, k, g]*progress[k, len(disease_stages)-2]\n",
    "            \n",
    "                #d11b\n",
    "                for j in range(1,len(disease_stages) - 2):\n",
    "                    dCdt[i, j, k, g]=C[i - 1, j, k, g]*alpha-C[i, j, k, g]*(mu(tt,i,g) +alpha)+\\\n",
    "                        C[i, j - 1, k, g]*progress[k, j-1] -C[i, j, k, g]*progress[k, j]\n",
    "            \n",
    "        for i in range(6,len(age_groups)):\n",
    "            for k in age_at_infection_groups:\n",
    "                #d7 (*F0 population*)\n",
    "                dCdt[i, 0, k, g]= -C[i, 0, k, g]*(progress[k, 0] + mu(tt,i,g) + alpha) + \\\n",
    "                    C[i - 1, 0, k, g]* alpha + blood_trans[g, i]*infected_donors*beta*pop(tt,i,g)\n",
    "            \n",
    "                #d8c (*last stage population*)\n",
    "                dCdt[i, len(disease_stages)-1, k, g]= C[i - 1, len(disease_stages)-1, k, g]*alpha -\\\n",
    "                    C[i, len(disease_stages)-1, k, g]*(alpha + mu(tt,i,g)) +\\\n",
    "                    C[i, len(disease_stages)-2, k, g]*progress[k, len(disease_stages)-2]\n",
    "            \n",
    "                #d11c\n",
    "                for j in range(1,len(disease_stages) - 2):\n",
    "                    dCdt[i, j, k, g]=C[i - 1, j, k, g]*alpha-C[i, j, k, g]*(mu(tt,i,g) +alpha)+\\\n",
    "                        C[i, j - 1, k, g]*progress[k, j-1] -C[i, j, k, g]*progress[k, j]            \n",
    "            \n",
    "    dCdt=np.array(dCdt).reshape(480)\n",
    "    return dCdt\n"
   ]
  },
  {
   "cell_type": "code",
   "execution_count": 15,
   "metadata": {
    "collapsed": true
   },
   "outputs": [
    {
     "name": "stdout",
     "output_type": "stream",
     "text": [
      "0\n"
     ]
    },
    {
     "name": "stderr",
     "output_type": "stream",
     "text": [
      "C:\\Users\\User\\Anaconda2\\envs\\py36\\lib\\site-packages\\scipy\\integrate\\odepack.py:218: ODEintWarning: Excess work done on this call (perhaps wrong Dfun type). Run with full_output = 1 to get quantitative information.\n  warnings.warn(warning_msg, ODEintWarning)\n"
     ]
    },
    {
     "name": "stdout",
     "output_type": "stream",
     "text": [
      "1\n"
     ]
    },
    {
     "name": "stdout",
     "output_type": "stream",
     "text": [
      "2\n"
     ]
    },
    {
     "name": "stdout",
     "output_type": "stream",
     "text": [
      "3\n"
     ]
    },
    {
     "name": "stdout",
     "output_type": "stream",
     "text": [
      "4\n"
     ]
    },
    {
     "name": "stdout",
     "output_type": "stream",
     "text": [
      "5\n"
     ]
    },
    {
     "name": "stdout",
     "output_type": "stream",
     "text": [
      "6\n"
     ]
    },
    {
     "name": "stdout",
     "output_type": "stream",
     "text": [
      "7\n"
     ]
    },
    {
     "name": "stdout",
     "output_type": "stream",
     "text": [
      "8\n"
     ]
    },
    {
     "name": "stdout",
     "output_type": "stream",
     "text": [
      "9\n"
     ]
    },
    {
     "name": "stdout",
     "output_type": "stream",
     "text": [
      "10\n"
     ]
    },
    {
     "name": "stdout",
     "output_type": "stream",
     "text": [
      "11\n"
     ]
    },
    {
     "name": "stdout",
     "output_type": "stream",
     "text": [
      "12\n"
     ]
    },
    {
     "name": "stdout",
     "output_type": "stream",
     "text": [
      "13\n"
     ]
    },
    {
     "name": "stdout",
     "output_type": "stream",
     "text": [
      "14\n"
     ]
    },
    {
     "name": "stdout",
     "output_type": "stream",
     "text": [
      "15\n"
     ]
    },
    {
     "name": "stdout",
     "output_type": "stream",
     "text": [
      "16\n"
     ]
    },
    {
     "name": "stdout",
     "output_type": "stream",
     "text": [
      "17\n"
     ]
    },
    {
     "name": "stdout",
     "output_type": "stream",
     "text": [
      "18\n"
     ]
    },
    {
     "name": "stdout",
     "output_type": "stream",
     "text": [
      "19\n"
     ]
    },
    {
     "name": "stdout",
     "output_type": "stream",
     "text": [
      "20\n"
     ]
    },
    {
     "name": "stdout",
     "output_type": "stream",
     "text": [
      "21\n"
     ]
    },
    {
     "name": "stdout",
     "output_type": "stream",
     "text": [
      "22\n"
     ]
    },
    {
     "name": "stdout",
     "output_type": "stream",
     "text": [
      "23\n"
     ]
    },
    {
     "name": "stdout",
     "output_type": "stream",
     "text": [
      "24\n"
     ]
    },
    {
     "name": "stdout",
     "output_type": "stream",
     "text": [
      "25\n"
     ]
    },
    {
     "name": "stdout",
     "output_type": "stream",
     "text": [
      "26\n"
     ]
    },
    {
     "name": "stdout",
     "output_type": "stream",
     "text": [
      "27\n"
     ]
    },
    {
     "name": "stdout",
     "output_type": "stream",
     "text": [
      "28\n"
     ]
    },
    {
     "name": "stdout",
     "output_type": "stream",
     "text": [
      "29\n"
     ]
    },
    {
     "name": "stdout",
     "output_type": "stream",
     "text": [
      "30\n"
     ]
    },
    {
     "name": "stdout",
     "output_type": "stream",
     "text": [
      "31\n"
     ]
    },
    {
     "name": "stdout",
     "output_type": "stream",
     "text": [
      "32\n"
     ]
    },
    {
     "name": "stdout",
     "output_type": "stream",
     "text": [
      "33\n"
     ]
    },
    {
     "name": "stdout",
     "output_type": "stream",
     "text": [
      "34\n"
     ]
    },
    {
     "name": "stdout",
     "output_type": "stream",
     "text": [
      "35\n"
     ]
    },
    {
     "name": "stdout",
     "output_type": "stream",
     "text": [
      "36\n"
     ]
    },
    {
     "name": "stdout",
     "output_type": "stream",
     "text": [
      "37\n"
     ]
    },
    {
     "name": "stdout",
     "output_type": "stream",
     "text": [
      "38\n"
     ]
    },
    {
     "name": "stdout",
     "output_type": "stream",
     "text": [
      "39\n"
     ]
    },
    {
     "name": "stdout",
     "output_type": "stream",
     "text": [
      "40\n"
     ]
    },
    {
     "name": "stdout",
     "output_type": "stream",
     "text": [
      "41\n"
     ]
    },
    {
     "name": "stdout",
     "output_type": "stream",
     "text": [
      "42\n"
     ]
    },
    {
     "name": "stdout",
     "output_type": "stream",
     "text": [
      "43\n"
     ]
    },
    {
     "name": "stdout",
     "output_type": "stream",
     "text": [
      "44\n"
     ]
    },
    {
     "name": "stdout",
     "output_type": "stream",
     "text": [
      "45\n"
     ]
    },
    {
     "name": "stdout",
     "output_type": "stream",
     "text": [
      "46\n"
     ]
    },
    {
     "name": "stdout",
     "output_type": "stream",
     "text": [
      "47\n"
     ]
    },
    {
     "name": "stdout",
     "output_type": "stream",
     "text": [
      "48\n"
     ]
    },
    {
     "name": "stdout",
     "output_type": "stream",
     "text": [
      "49\n"
     ]
    },
    {
     "name": "stdout",
     "output_type": "stream",
     "text": [
      "50\n"
     ]
    },
    {
     "name": "stdout",
     "output_type": "stream",
     "text": [
      "51\n52\n"
     ]
    },
    {
     "name": "stderr",
     "output_type": "stream",
     "text": [
      "C:\\Users\\User\\Anaconda2\\envs\\py36\\lib\\site-packages\\scipy\\integrate\\odepack.py:218: ODEintWarning: Repeated convergence failures (perhaps bad Jacobian or tolerances). Run with full_output = 1 to get quantitative information.\n  warnings.warn(warning_msg, ODEintWarning)\n"
     ]
    },
    {
     "name": "stdout",
     "output_type": "stream",
     "text": [
      "53\n"
     ]
    },
    {
     "name": "stdout",
     "output_type": "stream",
     "text": [
      "54\n"
     ]
    },
    {
     "name": "stdout",
     "output_type": "stream",
     "text": [
      "55\n"
     ]
    },
    {
     "name": "stdout",
     "output_type": "stream",
     "text": [
      "56\n"
     ]
    },
    {
     "name": "stdout",
     "output_type": "stream",
     "text": [
      "57\n"
     ]
    },
    {
     "name": "stdout",
     "output_type": "stream",
     "text": [
      "58\n"
     ]
    },
    {
     "name": "stdout",
     "output_type": "stream",
     "text": [
      "59\n"
     ]
    },
    {
     "name": "stdout",
     "output_type": "stream",
     "text": [
      "60\n"
     ]
    },
    {
     "name": "stdout",
     "output_type": "stream",
     "text": [
      "61\n"
     ]
    }
   ],
   "source": [
    "def pop(t0, i, g):\n",
    "    # 0-gender, 1-t, 2-age\n",
    "    return population[g, int(t0), i]*1000\n",
    "\n",
    "\n",
    "def mu(t, i, g):\n",
    "    # 0-gender, 1-t, 2-age\n",
    "    return Mu[g, int(t), i]\n",
    "\n",
    "\n",
    "def lamda(t):\n",
    "    return float(birth_rate[t])\n",
    "\n",
    "alpha=0.2\n",
    "beta=0.15\n",
    "\n",
    "start_year=0\n",
    "end_year=62\n",
    "T = np.arange(0,2)\n",
    "Time = np.zeros(1)\n",
    "result=np.zeros(480)\n",
    "y0=C0\n",
    "\n",
    "\n",
    "for year in range(start_year, end_year):\n",
    "    # Solve\n",
    "    print((year))\n",
    "    args=(alpha,beta,lamda,mu,pop,year)\n",
    "    solution = odeint(deriv, y0, T, args)  # Solve Previous Year\n",
    "    Time = np.hstack((Time, T +(year - start_year)))  # Add times of previous year\n",
    "    result = np.vstack((result, solution))  # Add solution of last year\n",
    "    # Transfer to next year\n",
    "    y0 = solution[-1]\n",
    "\n"
   ]
  },
  {
   "cell_type": "code",
   "execution_count": 77,
   "metadata": {},
   "outputs": [],
   "source": [
    "c = y0.T\n",
    "c = np.array(c).reshape(len(age_groups), len(disease_stages),\n",
    "                        len(age_at_infection_groups), len(genders))"
   ]
  },
  {
   "cell_type": "code",
   "execution_count": 78,
   "metadata": {},
   "outputs": [
    {
     "data": {
      "text/plain": [
       "array([[ 110.15738371,  106.42292425],\n       [  51.52906388,   48.20184207],\n       [  37.6097811 ,   34.53052233]])"
      ]
     },
     "execution_count": 78,
     "metadata": {},
     "output_type": "execute_result"
    }
   ],
   "source": [
    "sum(c)[0]"
   ]
  },
  {
   "cell_type": "code",
   "execution_count": 17,
   "metadata": {},
   "outputs": [
    {
     "data": {
      "text/plain": [
       "array([ 476.        ,  474.92185456,  474.92185456,  472.33193758,\n        472.33193758,  470.50508928,  470.50508928,  465.69680102,\n        465.69680102,  464.76670772,  464.76670772,  464.147347  ,\n        464.147347  ,  464.14681767,  464.14681767,  464.14618065,\n        464.14618065,  464.14555552,  464.14555552,  464.14507364,\n        464.14507364,  464.14459776,  464.14459776,  464.14386461,\n        464.14386461,  464.14329948,  464.14329948,  464.14273094,\n        464.14273094,  464.14218511,  464.14218511,  464.1415201 ,\n        464.1415201 ,  464.14102041,  464.14102041,  464.14039814,\n        464.14039814,  464.13990535,  464.13990535,  464.13949942,\n        464.13949942,  464.13888196,  464.13888196,  464.13818035,\n        464.13818035,  464.13760837,  464.13760837,  464.13706004,\n        464.13706004,  464.13639085,  464.13639085,  464.13572658,\n        464.13572658,  464.11049202,  464.11049202,  464.08536881,\n        464.08536881,  464.06023489,  464.06023489,  464.03507953,\n        464.03507953,  464.00995195,  464.00995195,  463.98406923,\n        463.98406923,  463.95816701,  463.95816701,  463.95228444,\n        463.95228444,  463.94641894,  463.94641894,  463.94072898,\n        463.94072898,  463.9349452 ,  463.9349452 ,  463.92915703,\n        463.92915703,  463.92839037,  463.92839037,  463.92765523,\n        463.92765523,  463.92694916,  463.92694916,  463.92616014,\n        463.92616014,  463.9254106 ,  463.9254106 ,  463.91786926,\n        463.91786926,  463.91036174,  463.91036174,  463.9029142 ,\n        463.9029142 ,  463.89526519,  463.89526519,  463.88774172,\n        463.88774172,  463.88440552,  463.88440552,  463.88109358,\n        463.88109358,  463.87777183,  463.87777183,  463.87537505,\n        463.87537505,  463.87265485,  463.87265485,  463.85473755,\n        463.85473755,  463.83680004,  463.83680004,  463.81901813,\n        463.81901813,  463.80122446,  463.80122446,  463.78328166,\n        463.78328166,  463.7738961 ,  463.7738961 ,  463.77101759,\n        463.77101759,  463.76814231,  463.76814231,  463.76512546])"
      ]
     },
     "execution_count": 17,
     "metadata": {},
     "output_type": "execute_result"
    }
   ],
   "source": [
    "sum(result.T)[1:]"
   ]
  },
  {
   "cell_type": "code",
   "execution_count": 16,
   "metadata": {},
   "outputs": [
    {
     "data": {
      "image/png": "[encoded data removed]",
      "text/plain": [
       "<matplotlib.figure.Figure at 0x2192e1af160>"
      ]
     },
     "metadata": {},
     "output_type": "display_data"
    }
   ],
   "source": [
    "plt.plot(sum(result.T)[1:])\n",
    "plt.show()"
   ]
  },
  {
   "cell_type": "code",
   "execution_count": null,
   "metadata": {},
   "outputs": [
    {
     "name": "stdout",
     "output_type": "stream",
     "text": [
      "No\n"
     ]
    }
   ],
   "source": [
    "print (\"Yes\")"
   ]
  },
  {
   "cell_type": "code",
   "execution_count": 26,
   "metadata": {
    "collapsed": false
   },
   "outputs": [
    {
     "ename": "ValueError",
     "evalue": "Must pass 2-d input",
     "traceback": [
      "\u001b[1;31m---------------------------------------------------------------------------\u001b[0m",
      "\u001b[1;31mValueError\u001b[0m                                Traceback (most recent call last)",
      "\u001b[1;32m<ipython-input-26-9705378fc500>\u001b[0m in \u001b[0;36m<module>\u001b[1;34m()\u001b[0m\n\u001b[1;32m----> 1\u001b[1;33m \u001b[0mdf\u001b[0m \u001b[1;33m=\u001b[0m \u001b[0mpd\u001b[0m\u001b[1;33m.\u001b[0m\u001b[0mDataFrame\u001b[0m\u001b[1;33m(\u001b[0m\u001b[0mnp\u001b[0m\u001b[1;33m.\u001b[0m\u001b[0marray\u001b[0m\u001b[1;33m(\u001b[0m\u001b[0mc\u001b[0m\u001b[1;33m)\u001b[0m\u001b[1;33m.\u001b[0m\u001b[0mT\u001b[0m\u001b[1;33m,\u001b[0m \u001b[0mcolumns\u001b[0m\u001b[1;33m=\u001b[0m\u001b[1;33m[\u001b[0m\u001b[1;34m'S'\u001b[0m\u001b[1;33m,\u001b[0m \u001b[1;34m'I'\u001b[0m\u001b[1;33m,\u001b[0m \u001b[1;34m'R'\u001b[0m\u001b[1;33m]\u001b[0m\u001b[1;33m)\u001b[0m\u001b[1;33m\u001b[0m\u001b[0m\n\u001b[0m",
      "\u001b[1;32mC:\\Users\\User\\Anaconda2\\envs\\py36\\lib\\site-packages\\pandas\\core\\frame.py\u001b[0m in \u001b[0;36m__init__\u001b[1;34m(self, data, index, columns, dtype, copy)\u001b[0m\n\u001b[0;32m    304\u001b[0m             \u001b[1;32melse\u001b[0m\u001b[1;33m:\u001b[0m\u001b[1;33m\u001b[0m\u001b[0m\n\u001b[0;32m    305\u001b[0m                 mgr = self._init_ndarray(data, index, columns, dtype=dtype,\n\u001b[1;32m--> 306\u001b[1;33m                                          copy=copy)\n\u001b[0m\u001b[0;32m    307\u001b[0m         \u001b[1;32melif\u001b[0m \u001b[0misinstance\u001b[0m\u001b[1;33m(\u001b[0m\u001b[0mdata\u001b[0m\u001b[1;33m,\u001b[0m \u001b[1;33m(\u001b[0m\u001b[0mlist\u001b[0m\u001b[1;33m,\u001b[0m \u001b[0mtypes\u001b[0m\u001b[1;33m.\u001b[0m\u001b[0mGeneratorType\u001b[0m\u001b[1;33m)\u001b[0m\u001b[1;33m)\u001b[0m\u001b[1;33m:\u001b[0m\u001b[1;33m\u001b[0m\u001b[0m\n\u001b[0;32m    308\u001b[0m             \u001b[1;32mif\u001b[0m \u001b[0misinstance\u001b[0m\u001b[1;33m(\u001b[0m\u001b[0mdata\u001b[0m\u001b[1;33m,\u001b[0m \u001b[0mtypes\u001b[0m\u001b[1;33m.\u001b[0m\u001b[0mGeneratorType\u001b[0m\u001b[1;33m)\u001b[0m\u001b[1;33m:\u001b[0m\u001b[1;33m\u001b[0m\u001b[0m\n",
      "\u001b[1;32mC:\\Users\\User\\Anaconda2\\envs\\py36\\lib\\site-packages\\pandas\\core\\frame.py\u001b[0m in \u001b[0;36m_init_ndarray\u001b[1;34m(self, values, index, columns, dtype, copy)\u001b[0m\n\u001b[0;32m    461\u001b[0m         \u001b[1;31m# by definition an array here\u001b[0m\u001b[1;33m\u001b[0m\u001b[1;33m\u001b[0m\u001b[0m\n\u001b[0;32m    462\u001b[0m         \u001b[1;31m# the dtypes will be coerced to a single dtype\u001b[0m\u001b[1;33m\u001b[0m\u001b[1;33m\u001b[0m\u001b[0m\n\u001b[1;32m--> 463\u001b[1;33m         \u001b[0mvalues\u001b[0m \u001b[1;33m=\u001b[0m \u001b[0m_prep_ndarray\u001b[0m\u001b[1;33m(\u001b[0m\u001b[0mvalues\u001b[0m\u001b[1;33m,\u001b[0m \u001b[0mcopy\u001b[0m\u001b[1;33m=\u001b[0m\u001b[0mcopy\u001b[0m\u001b[1;33m)\u001b[0m\u001b[1;33m\u001b[0m\u001b[0m\n\u001b[0m\u001b[0;32m    464\u001b[0m \u001b[1;33m\u001b[0m\u001b[0m\n\u001b[0;32m    465\u001b[0m         \u001b[1;32mif\u001b[0m \u001b[0mdtype\u001b[0m \u001b[1;32mis\u001b[0m \u001b[1;32mnot\u001b[0m \u001b[1;32mNone\u001b[0m\u001b[1;33m:\u001b[0m\u001b[1;33m\u001b[0m\u001b[0m\n",
      "\u001b[1;32mC:\\Users\\User\\Anaconda2\\envs\\py36\\lib\\site-packages\\pandas\\core\\frame.py\u001b[0m in \u001b[0;36m_prep_ndarray\u001b[1;34m(values, copy)\u001b[0m\n\u001b[0;32m   5686\u001b[0m         \u001b[0mvalues\u001b[0m \u001b[1;33m=\u001b[0m \u001b[0mvalues\u001b[0m\u001b[1;33m.\u001b[0m\u001b[0mreshape\u001b[0m\u001b[1;33m(\u001b[0m\u001b[1;33m(\u001b[0m\u001b[0mvalues\u001b[0m\u001b[1;33m.\u001b[0m\u001b[0mshape\u001b[0m\u001b[1;33m[\u001b[0m\u001b[1;36m0\u001b[0m\u001b[1;33m]\u001b[0m\u001b[1;33m,\u001b[0m \u001b[1;36m1\u001b[0m\u001b[1;33m)\u001b[0m\u001b[1;33m)\u001b[0m\u001b[1;33m\u001b[0m\u001b[0m\n\u001b[0;32m   5687\u001b[0m     \u001b[1;32melif\u001b[0m \u001b[0mvalues\u001b[0m\u001b[1;33m.\u001b[0m\u001b[0mndim\u001b[0m \u001b[1;33m!=\u001b[0m \u001b[1;36m2\u001b[0m\u001b[1;33m:\u001b[0m\u001b[1;33m\u001b[0m\u001b[0m\n\u001b[1;32m-> 5688\u001b[1;33m         \u001b[1;32mraise\u001b[0m \u001b[0mValueError\u001b[0m\u001b[1;33m(\u001b[0m\u001b[1;34m'Must pass 2-d input'\u001b[0m\u001b[1;33m)\u001b[0m\u001b[1;33m\u001b[0m\u001b[0m\n\u001b[0m\u001b[0;32m   5689\u001b[0m \u001b[1;33m\u001b[0m\u001b[0m\n\u001b[0;32m   5690\u001b[0m     \u001b[1;32mreturn\u001b[0m \u001b[0mvalues\u001b[0m\u001b[1;33m\u001b[0m\u001b[0m\n",
      "\u001b[1;31mValueError\u001b[0m: Must pass 2-d input"
     ],
     "output_type": "error"
    }
   ],
   "source": [
    "df = pd.DataFrame(np.array(c).T, columns=['S', 'I', 'R'])"
   ]
  },
  {
   "cell_type": "code",
   "execution_count": null,
   "metadata": {
    "collapsed": true
   },
   "outputs": [],
   "source": [
    "def eq_system(y,t,w,sigma,ru,gamma,phai,beta,phi,etha,vac_eff):\n",
    "    M = y[0] \n",
    "    S = y[1:4]\n",
    "    I = np.array(y[4:13]).reshape(len(stages),len(severity) )\n",
    "    R = y[13:16]\n",
    "    V = y[16:19]\n",
    "    I_d = np.array(y[19:28]).reshape(len(doses),len(severity) )\n",
    "    \n",
    "    lamb = calc_force_of_infection(beta,phi,phai,t,I,I_d)\n",
    "    \n",
    "    dydt = []\n",
    "    dydt.append( birth_rate - M*( w[0]*(1-etha[0]) + mu + etha[0]*a[0] ) )        #dM/dt\n",
    "    \n",
    "    I_temp = []\n",
    "    S_temp = []\n",
    "    R_temp = []\n",
    "    V_temp = []\n",
    "    I_d_temp = []\n",
    "                    \n",
    "    m = max(stages) #=2\n",
    "\n",
    "    for k in stages:\n",
    "        S_temp.append( delta(k)*(w[0]*M*(1-etha[0]) - etha[0]*S[0]*a[0])           #dS/dt\n",
    "                          + (w[k]*R[k-1] if k > 0 else 0)\n",
    "                          - (mu+sigma[k]*lamb*(1-etha[0]*delta(k)))*S[k] \n",
    "                          + delta(m-k)*w[m+1]*R[m] )\n",
    "\n",
    "        for l in severity:\n",
    "            I_temp.append(ru[k,l]*sigma[k]*lamb*S[k]*(1-etha[0]*delta(k))-gamma[k,l]*I[k,l] - I[k,l]*mu)   #dI/dt\n",
    "        \n",
    "        R_temp.append(  - R[k]*(w[k+1] + mu) \n",
    "                        + ( np.sum([gamma[k,sev]*I[k,sev] for sev in severity]) ) \n",
    "                        + delta(k)*( sum([gamma[0,sev]*I_d[d,sev] for d in doses for sev in severity]) )\n",
    "                     )                                                                #dR/dt\n",
    "    \n",
    "    for d in doses:\n",
    "        V_temp.append( delta(d)*(M+S[0])*etha[0]*a[0]\n",
    "                      + (V[d-1]*etha[d]*a[d] if d > 0 else 0)   #in : V[d]->V[d+1]\n",
    "                      - (V[d]*etha[d+1]*a[d+1] if d < 2 else 0) #out: V[d]->V[d+1] \n",
    "                      - (sum( [(1-vac_eff[d,l])*sigma[0]*lamb for l in severity]) )*V[d] \n",
    "                            *((1-etha[d+1]) if d < 2 else 1) \n",
    "                      -mu*V[d] )\n",
    "            \n",
    "        for l in severity:\n",
    "            I_d_temp.append( (1-vac_eff[d,l])*sigma[0]*lamb*V[d]*((1-etha[d+1]) if d < 2 else 1) \n",
    "                              - (mu + gamma[0,l])*I_d[d,l] \n",
    "                           )\n",
    "                    \n",
    "    dydt.extend(S_temp)\n",
    "    dydt.extend(I_temp)\n",
    "    dydt.extend(R_temp)\n",
    "    dydt.extend(V_temp)\n",
    "    dydt.extend(I_d_temp)\n",
    "    return dydt"
   ]
  }
 ],
 "metadata": {
  "anaconda-cloud": {},
  "kernelspec": {
   "display_name": "Python [conda env:py36]",
   "language": "python",
   "name": "conda-env-py36-py"
  },
  "language_info": {
   "codemirror_mode": {
    "name": "ipython",
    "version": 3
   },
   "file_extension": ".py",
   "mimetype": "text/x-python",
   "name": "python",
   "nbconvert_exporter": "python",
   "pygments_lexer": "ipython3",
   "version": "3.6.1"
  }
 },
 "nbformat": 4,
 "nbformat_minor": 0
}
